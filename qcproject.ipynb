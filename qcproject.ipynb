{
 "cells": [
  {
   "cell_type": "code",
   "execution_count": 63,
   "id": "c67d30b3-7032-4a1c-be4d-cd9b059b0d2b",
   "metadata": {},
   "outputs": [
    {
     "ename": "SyntaxError",
     "evalue": "invalid non-printable character U+00A0 (338036186.py, line 39)",
     "output_type": "error",
     "traceback": [
      "\u001b[0;36m  Input \u001b[0;32mIn [63]\u001b[0;36m\u001b[0m\n\u001b[0;31m    for i in range(len(QuantumCircuit)): #going through the circuit and stepwise calculating the circuit matrix\u001b[0m\n\u001b[0m                                        ^\u001b[0m\n\u001b[0;31mSyntaxError\u001b[0m\u001b[0;31m:\u001b[0m invalid non-printable character U+00A0\n"
     ]
    }
   ],
   "source": [
    "import numpy as np\n",
    "import collections\n",
    "\n",
    "#--------------------------functions------------------------------------------------\n",
    "\n",
    "def initial_quantumstate(QuantumCircuit):\n",
    "    \n",
    "    \"\"\"This function determines the inital quantum state when all qubits are in the ground state.\n",
    "\n",
    "    Input\n",
    "    -----\n",
    "    QuantumCircuit: The quantum circuit in the form of a numpy array\n",
    "\n",
    "    Output\n",
    "    -----\n",
    "    numpy array of the initual quantum state\n",
    "    \"\"\"\n",
    "    \n",
    "    nr_qubits = collections.Counter(QuantumCircuit[:,0])[\"qubit\"]   # Gives number of qubits in circuit  \n",
    "    qubit_state = []   # define empty array \n",
    "    \n",
    "    for i in range(nr_qubits):\n",
    "        if len(qubit_state) == 0:         \n",
    "            qubit_state = np.array([1,0])\n",
    "        else:        \n",
    "            qubit_state = np.kron(qubit_state, np.array([1,0]))\n",
    "            \n",
    "    return qubit_state\n",
    "\n",
    "\n",
    "def all_gates(QuantumCircuit, initial):\n",
    "    \"\"\"This function determines the matrix which corresponds to applying the whole circuit.\n",
    "    \n",
    "    Input\n",
    "    -----\n",
    "        QuantumCircuit: 2*N dimensional np.array\n",
    "                        The quantum circuit in the form of a numpy array\n",
    "        initial:        np.array\n",
    "                        The initial quantum state\n",
    "    Output\n",
    "    -----\n",
    "        (dim(initial))**2 dimensional np.array\n",
    "        The matrix which corresponds to applying the whole circuit\n",
    "    \"\"\"\n",
    "    CircuitMatrix = np.identity(len(initial))\n",
    "    for i in range(len(QuantumCircuit)): #going through the circuit and stepwise calculating the circuit matrix\n",
    "        if QuantumCircuit[i:0] == 'h':\n",
    "            Circuitmatrix = hadamard() * Circuitmatrix\n",
    "        elif QuantumCircuit[i:0] == 'cnot' or 'c-x':\n",
    "            Circuitmatrix = cnot() * Circuitmatrix\n",
    "    return Circuitmatrix\n",
    "\n",
    "\n",
    "\n",
    "#------------------------------------------------------------------------------------------------\n",
    "\n",
    "\n",
    "#-----------------------main_program-----------------------------------------------------------\n",
    "QuantumCircuit = np.loadtxt(\"QASM-samples/test3.qasm\", dtype=\"str\") #loads the circuit from the qasm file to a 2*N matrix\n",
    "\n",
    "initial = initial_quantumstate(QuantumCircuit)\n",
    "print(initial)  \n",
    "\n",
    "Circuit = all_gates(QuantumCircuit, initial)\n",
    "print(Circuit)\n"
   ]
  },
  {
   "cell_type": "code",
   "execution_count": null,
   "id": "32b5336b-f3fd-4bff-9e16-237bec1acd11",
   "metadata": {},
   "outputs": [],
   "source": []
  }
 ],
 "metadata": {
  "kernelspec": {
   "display_name": "Python 3 (ipykernel)",
   "language": "python",
   "name": "python3"
  },
  "language_info": {
   "codemirror_mode": {
    "name": "ipython",
    "version": 3
   },
   "file_extension": ".py",
   "mimetype": "text/x-python",
   "name": "python",
   "nbconvert_exporter": "python",
   "pygments_lexer": "ipython3",
   "version": "3.9.7"
  }
 },
 "nbformat": 4,
 "nbformat_minor": 5
}
