{
 "cells": [
  {
   "cell_type": "code",
   "execution_count": 61,
   "id": "b135c17b-e39f-46ea-85a0-b7f2824da7ec",
   "metadata": {},
   "outputs": [
    {
     "name": "stdout",
     "output_type": "stream",
     "text": [
      "1\n",
      "[[1. 0.]\n",
      " [0. 0.]]\n"
     ]
    }
   ],
   "source": [
    "from qiskit import QuantumCircuit\n",
    "import numpy as np\n",
    "# f = open(\"QASM-samples/test1.qasm\")\n",
    "qunumb=0\n",
    "QuantumCircuit = np.loadtxt(\"QASM-samples/test1.qasm\", dtype=\"str\")\n",
    "for i in range(len(QuantumCircuit)):\n",
    "    if QuantumCircuit[i][0] == \"qubit\":\n",
    "        qunumb += 1\n",
    "    else: \n",
    "        i = 0\n",
    "        break\n",
    "print(qunumb)\n",
    "q = np.zeros((2**qunumb, 2**qunumb))\n",
    "q[0][0] = 1\n",
    "print(q)\n",
    "# for i in f:\n",
    "#     if \"qubit\" in i:\n",
    "#         print(\"found\")\n",
    "#         break\n",
    "# print(f.read())\n",
    "# f.close()"
   ]
  },
  {
   "cell_type": "code",
   "execution_count": null,
   "id": "129d9321-34af-4020-9d84-79148084e9c3",
   "metadata": {},
   "outputs": [],
   "source": []
  },
  {
   "cell_type": "code",
   "execution_count": null,
   "id": "ac62a5fd-1139-4f5b-b31b-8f5eba01213f",
   "metadata": {},
   "outputs": [],
   "source": []
  }
 ],
 "metadata": {
  "kernelspec": {
   "display_name": "Python 3 (ipykernel)",
   "language": "python",
   "name": "python3"
  },
  "language_info": {
   "codemirror_mode": {
    "name": "ipython",
    "version": 3
   },
   "file_extension": ".py",
   "mimetype": "text/x-python",
   "name": "python",
   "nbconvert_exporter": "python",
   "pygments_lexer": "ipython3",
   "version": "3.9.7"
  }
 },
 "nbformat": 4,
 "nbformat_minor": 5
}
